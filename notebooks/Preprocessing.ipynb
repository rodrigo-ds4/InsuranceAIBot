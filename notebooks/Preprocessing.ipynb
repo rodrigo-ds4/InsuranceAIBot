{
 "cells": [
  {
   "attachments": {},
   "cell_type": "markdown",
   "metadata": {},
   "source": [
    "## Data pre-processing"
   ]
  },
  {
   "attachments": {},
   "cell_type": "markdown",
   "metadata": {},
   "source": [
    "Dependencies"
   ]
  },
  {
   "cell_type": "code",
   "execution_count": 1,
   "metadata": {},
   "outputs": [],
   "source": [
    "import os\n",
    "import pdfplumber\n",
    "import re\n",
    "import pandas as pd\n",
    "import pickle"
   ]
  },
  {
   "attachments": {},
   "cell_type": "markdown",
   "metadata": {},
   "source": [
    "### Add columns to dataframe"
   ]
  },
  {
   "cell_type": "code",
   "execution_count": 2,
   "metadata": {},
   "outputs": [
    {
     "data": {
      "text/html": [
       "<div>\n",
       "<style scoped>\n",
       "    .dataframe tbody tr th:only-of-type {\n",
       "        vertical-align: middle;\n",
       "    }\n",
       "\n",
       "    .dataframe tbody tr th {\n",
       "        vertical-align: top;\n",
       "    }\n",
       "\n",
       "    .dataframe thead th {\n",
       "        text-align: right;\n",
       "    }\n",
       "</style>\n",
       "<table border=\"1\" class=\"dataframe\">\n",
       "  <thead>\n",
       "    <tr style=\"text-align: right;\">\n",
       "      <th></th>\n",
       "      <th>Text</th>\n",
       "      <th>Article_Name</th>\n",
       "      <th>Policy_Name</th>\n",
       "    </tr>\n",
       "  </thead>\n",
       "  <tbody>\n",
       "    <tr>\n",
       "      <th>0</th>\n",
       "      <td>Se aplicarán al presente contrato de seguro la...</td>\n",
       "      <td>1°: REGLAS APLICABLES AL CONTRATO</td>\n",
       "      <td>POL320180100.pdf</td>\n",
       "    </tr>\n",
       "    <tr>\n",
       "      <th>1</th>\n",
       "      <td>La Compañía Aseguradora reembolsará al asegura...</td>\n",
       "      <td>2º: COBERTURA Y MATERIA ASEGURADA</td>\n",
       "      <td>POL320180100.pdf</td>\n",
       "    </tr>\n",
       "    <tr>\n",
       "      <th>2</th>\n",
       "      <td>Condiciones Generales; y 6) Que las prestacion...</td>\n",
       "      <td>5° de estas</td>\n",
       "      <td>POL320180100.pdf</td>\n",
       "    </tr>\n",
       "    <tr>\n",
       "      <th>3</th>\n",
       "      <td>Generales y establecido en las Condiciones par...</td>\n",
       "      <td>4°, numeral 17 de estas Condiciones</td>\n",
       "      <td>POL320180100.pdf</td>\n",
       "    </tr>\n",
       "    <tr>\n",
       "      <th>4</th>\n",
       "      <td>Generales y cuya extensión se determina en las...</td>\n",
       "      <td>4°, numeral 28 de estas Condiciones</td>\n",
       "      <td>POL320180100.pdf</td>\n",
       "    </tr>\n",
       "    <tr>\n",
       "      <th>...</th>\n",
       "      <td>...</td>\n",
       "      <td>...</td>\n",
       "      <td>...</td>\n",
       "    </tr>\n",
       "    <tr>\n",
       "      <th>260</th>\n",
       "      <td>Los montos asegurados, los valores y las prima...</td>\n",
       "      <td>15. MONEDA O UNIDAD DEL CONTRATO DE SEGURO.</td>\n",
       "      <td>POL320200071.pdf</td>\n",
       "    </tr>\n",
       "    <tr>\n",
       "      <th>261</th>\n",
       "      <td>Cualquier comunicación, declaración o notifica...</td>\n",
       "      <td>16. COMUNICACION ENTRE LAS PARTES.</td>\n",
       "      <td>POL320200071.pdf</td>\n",
       "    </tr>\n",
       "    <tr>\n",
       "      <th>262</th>\n",
       "      <td>De conformidad al artículo 538 del Código de C...</td>\n",
       "      <td>18. DERECHO DE RETRACTO.</td>\n",
       "      <td>POL320200071.pdf</td>\n",
       "    </tr>\n",
       "    <tr>\n",
       "      <th>263</th>\n",
       "      <td>Para todos los efectos legales del presente co...</td>\n",
       "      <td>19. DOMICILIO.</td>\n",
       "      <td>POL320200071.pdf</td>\n",
       "    </tr>\n",
       "    <tr>\n",
       "      <th>264</th>\n",
       "      <td>Para los efectos de este contrato de seguro se...</td>\n",
       "      <td>20. DEFINICIONES.</td>\n",
       "      <td>POL320200071.pdf</td>\n",
       "    </tr>\n",
       "  </tbody>\n",
       "</table>\n",
       "<p>265 rows × 3 columns</p>\n",
       "</div>"
      ],
      "text/plain": [
       "                                                  Text  \\\n",
       "0    Se aplicarán al presente contrato de seguro la...   \n",
       "1    La Compañía Aseguradora reembolsará al asegura...   \n",
       "2    Condiciones Generales; y 6) Que las prestacion...   \n",
       "3    Generales y establecido en las Condiciones par...   \n",
       "4    Generales y cuya extensión se determina en las...   \n",
       "..                                                 ...   \n",
       "260  Los montos asegurados, los valores y las prima...   \n",
       "261  Cualquier comunicación, declaración o notifica...   \n",
       "262  De conformidad al artículo 538 del Código de C...   \n",
       "263  Para todos los efectos legales del presente co...   \n",
       "264  Para los efectos de este contrato de seguro se...   \n",
       "\n",
       "                                    Article_Name       Policy_Name  \n",
       "0              1°: REGLAS APLICABLES AL CONTRATO  POL320180100.pdf  \n",
       "1              2º: COBERTURA Y MATERIA ASEGURADA  POL320180100.pdf  \n",
       "2                                    5° de estas  POL320180100.pdf  \n",
       "3            4°, numeral 17 de estas Condiciones  POL320180100.pdf  \n",
       "4            4°, numeral 28 de estas Condiciones  POL320180100.pdf  \n",
       "..                                           ...               ...  \n",
       "260  15. MONEDA O UNIDAD DEL CONTRATO DE SEGURO.  POL320200071.pdf  \n",
       "261           16. COMUNICACION ENTRE LAS PARTES.  POL320200071.pdf  \n",
       "262                     18. DERECHO DE RETRACTO.  POL320200071.pdf  \n",
       "263                               19. DOMICILIO.  POL320200071.pdf  \n",
       "264                            20. DEFINICIONES.  POL320200071.pdf  \n",
       "\n",
       "[265 rows x 3 columns]"
      ]
     },
     "metadata": {},
     "output_type": "display_data"
    }
   ],
   "source": [
    "folder_path = \"../raw-dataset/\"\n",
    "\n",
    "texts = []\n",
    "article_names = []\n",
    "policy_names = []\n",
    "\n",
    "for file in os.listdir(folder_path):\n",
    "    if file.endswith(\".pdf\"):\n",
    "        file_path = os.path.join(folder_path, file)\n",
    "\n",
    "        with pdfplumber.open(file_path) as pdf:\n",
    "            for page in pdf.pages:\n",
    "                page_text = page.extract_text()\n",
    "                page_text = re.sub(r'Artículo', 'ARTÍCULO', page_text)\n",
    "                articles = []\n",
    "                articles += page_text.split(\"ARTÍCULO\")[1:]\n",
    "                \n",
    "                for article in articles:\n",
    "                    split_article = article.split(\"\\n\", 1)\n",
    "                    if len(split_article) == 2:\n",
    "                        article_name, text = split_article\n",
    "                    else:\n",
    "                        article_name = \"Nombre del artículo no encontrado\"\n",
    "                        text = article\n",
    "                    policy_name = file\n",
    "                    article_names.append(article_name.strip())\n",
    "                    texts.append(text.strip())\n",
    "                    policy_names.append(policy_name)\n",
    "\n",
    "df = pd.DataFrame({\n",
    "    \"Text\": texts,\n",
    "    \"Article_Name\": article_names,\n",
    "    \"Policy_Name\": policy_names\n",
    "})\n",
    "\n",
    "result = df.loc[df['Policy_Name'] == 'POL320210063.pdf']\n",
    "\n",
    "display(df)"
   ]
  },
  {
   "cell_type": "markdown",
   "metadata": {},
   "source": [
    "Save Dataframe "
   ]
  },
  {
   "cell_type": "code",
   "execution_count": null,
   "metadata": {},
   "outputs": [],
   "source": [
    "# Guardar el DataFrame en un archivo pickle\n",
    "pickle.dump(df, open('df.pickle', 'wb'))\n",
    "\n",
    "# Abrir el archivo pickle y cargar el DataFrame\n",
    "loaded_df = pickle.load(open('df.pickle', 'rb'))\n",
    "\n",
    "# Mostrar el DataFrame cargado\n",
    "print(loaded_df)"
   ]
  }
 ],
 "metadata": {
  "kernelspec": {
   "display_name": "Python 3.9.13 ('venv': venv)",
   "language": "python",
   "name": "python3"
  },
  "language_info": {
   "codemirror_mode": {
    "name": "ipython",
    "version": 3
   },
   "file_extension": ".py",
   "mimetype": "text/x-python",
   "name": "python",
   "nbconvert_exporter": "python",
   "pygments_lexer": "ipython3",
   "version": "3.11.4"
  },
  "orig_nbformat": 4,
  "vscode": {
   "interpreter": {
    "hash": "3da787f3c05d9c17c5706bebecd0309c9c7f06cfda107ec5fc06ca597f2c7c03"
   }
  }
 },
 "nbformat": 4,
 "nbformat_minor": 2
}
